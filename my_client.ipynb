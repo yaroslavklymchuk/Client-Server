{
 "cells": [
  {
   "cell_type": "code",
   "execution_count": 1,
   "metadata": {},
   "outputs": [],
   "source": [
    "import pandas as pd\n",
    "import numpy as np\n",
    "import socket\n",
    "import time"
   ]
  },
  {
   "cell_type": "code",
   "execution_count": 2,
   "metadata": {},
   "outputs": [],
   "source": [
    "HOST = 'localhost'\n",
    "PORT = 65534"
   ]
  },
  {
   "cell_type": "code",
   "execution_count": 3,
   "metadata": {},
   "outputs": [],
   "source": [
    "def worker(msg):\n",
    "    msg_dict = {\"Printing all corpus.....\": 'print',\n",
    "               \"Please, send parameters for current operation\":'work'}\n",
    "    \n",
    "    try:\n",
    "        return msg_dict.get(msg)\n",
    "    except:\n",
    "        return \"No valid answer!\""
   ]
  },
  {
   "cell_type": "code",
   "execution_count": 4,
   "metadata": {},
   "outputs": [],
   "source": [
    "def client(host, port):\n",
    "    \n",
    "    with socket.socket(socket.AF_INET, socket.SOCK_STREAM) as s:\n",
    "        s.connect((host, port))\n",
    "        \n",
    "        s.sendall('Start'.encode('utf-8'))\n",
    "        answ = s.recv(1024).decode('utf-8')\n",
    "        print(answ, '\\n')\n",
    "        while answ!='Good Bye!':\n",
    "            command = input()\n",
    "            s.sendall(command.encode('utf-8'))\n",
    "\n",
    "            answ = s.recv(1024).decode('utf-8')\n",
    "            print('-'*100+'\\nResult:\\n', answ)"
   ]
  },
  {
   "cell_type": "code",
   "execution_count": 5,
   "metadata": {},
   "outputs": [
    {
     "name": "stdout",
     "output_type": "stream",
     "text": [
      "Welcome to Text Measurement System! \n",
      "\n",
      "calculate metrics; Pula, Aphines\n",
      "----------------------------------------------------------------------------------------------------\n",
      "Result:\n",
      " |   cosine |   damerau_levenshtein |   hamming |   jaro-winkler | word_to_compare   | word_to_find_similar   |\n",
      "|---------:|----------------------:|----------:|---------------:|:------------------|:-----------------------|\n",
      "| 0.188982 |                     7 |         7 |       0        | Winkler           | Jaro                   |\n",
      "| 0.534522 |                     4 |         8 |       0.690476 | klymchuk          | Pinchuk                |\n",
      "| 0        |                     7 |         7 |       0        | Jaro              | Pinchuk                |\n",
      "| 0.285714 |                     6 |         6 |       0.428571 | Hamming           | Hipster                |\n",
      "| 0.267261 |                     7 |         8 |       0.422619 | Yaroslav          | Hipster                |\n",
      "| 0.111803 |                     9 |         9 |       0.408333 | devterov          | Philosophy             |\n",
      "| 0        |                     7 |         7 |       0        | Aphines           | Pula                   |\n",
      "find similars; Hipster, Jaro\n",
      "----------------------------------------------------------------------------------------------------\n",
      "Result:\n",
      " |   cosine |   damerau_levenshtein |   hamming |   jaro-winkler | word_to_compare   | word_to_find_similar   |\n",
      "|---------:|----------------------:|----------:|---------------:|:------------------|:-----------------------|\n",
      "| 0.285714 |                     6 |         6 |       0.428571 | Hamming           | Hipster                |\n",
      "| 0.188982 |                     7 |         7 |       0        | Winkler           | Jaro                   |\n",
      "bye\n",
      "----------------------------------------------------------------------------------------------------\n",
      "Result:\n",
      " Good Bye!\n"
     ]
    }
   ],
   "source": [
    "client(HOST, PORT)"
   ]
  }
 ],
 "metadata": {
  "kernelspec": {
   "display_name": "Python 3",
   "language": "python",
   "name": "python3"
  },
  "language_info": {
   "codemirror_mode": {
    "name": "ipython",
    "version": 3
   },
   "file_extension": ".py",
   "mimetype": "text/x-python",
   "name": "python",
   "nbconvert_exporter": "python",
   "pygments_lexer": "ipython3",
   "version": "3.5.3"
  }
 },
 "nbformat": 4,
 "nbformat_minor": 2
}

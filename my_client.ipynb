{
 "cells": [
  {
   "cell_type": "code",
   "execution_count": 1,
   "metadata": {},
   "outputs": [],
   "source": [
    "import pandas as pd\n",
    "import numpy as np\n",
    "import socket\n",
    "import time"
   ]
  },
  {
   "cell_type": "code",
   "execution_count": 2,
   "metadata": {},
   "outputs": [],
   "source": [
    "HOST = 'localhost'\n",
    "PORT = 65532"
   ]
  },
  {
   "cell_type": "code",
   "execution_count": 3,
   "metadata": {},
   "outputs": [],
   "source": [
    "def client(host, port):\n",
    "    \n",
    "    with socket.socket(socket.AF_INET, socket.SOCK_STREAM) as s:\n",
    "        s.connect((host, port))\n",
    "        \n",
    "        s.sendall('Start'.encode('utf-8'))\n",
    "        answ = s.recv(1024).decode('utf-8')\n",
    "        print(answ, '\\n')\n",
    "        while answ!='Good Bye!':\n",
    "            command = input()\n",
    "            s.sendall(command.encode('utf-8'))\n",
    "\n",
    "            answ = s.recv(1024).decode('utf-8')\n",
    "            print('-'*100+'\\nResult:\\n', answ)"
   ]
  },
  {
   "cell_type": "code",
   "execution_count": 4,
   "metadata": {},
   "outputs": [
    {
     "name": "stdout",
     "output_type": "stream",
     "text": [
      "Welcome to Text Measurement System! \n",
      "\n",
      "print\n",
      "----------------------------------------------------------------------------------------------------\n",
      "Result:\n",
      " |   cosine |   damerau_levenshtein |   hamming |   jaro-winkler | word_to_compare   | word_to_find_similar   |\n",
      "|---------:|----------------------:|----------:|---------------:|:------------------|:-----------------------|\n",
      "|     0.4  |                     4 |         4 |       0.466667 | World             | Hello                  |\n",
      "|     0.75 |                     1 |         1 |       0.833333 | mice              | nice                   |\n",
      "find similars; abba, abba\n",
      "----------------------------------------------------------------------------------------------------\n",
      "Result:\n",
      " |   cosine |   damerau_levenshtein |   hamming |   jaro-winkler | word_to_compare   | word_to_find_similar   |\n",
      "|---------:|----------------------:|----------:|---------------:|:------------------|:-----------------------|\n",
      "|        0 |                     5 |         5 |              0 | World             | abba                   |\n",
      "calc\n",
      "----------------------------------------------------------------------------------------------------\n",
      "Result:\n",
      " No valid command\n",
      "calculate metrics; live, life\n",
      "----------------------------------------------------------------------------------------------------\n",
      "Result:\n",
      " |   cosine |   damerau_levenshtein |   hamming |   jaro-winkler | word_to_compare   | word_to_find_similar   |\n",
      "|---------:|----------------------:|----------:|---------------:|:------------------|:-----------------------|\n",
      "|     0.4  |                     4 |         4 |       0.466667 | World             | Hello                  |\n",
      "|     0.75 |                     1 |         1 |       0.833333 | mice              | nice                   |\n",
      "|     0.75 |                     1 |         1 |       0.866667 | life              | live                   |\n",
      "bye\n",
      "----------------------------------------------------------------------------------------------------\n",
      "Result:\n",
      " Good Bye!\n"
     ]
    }
   ],
   "source": [
    "client(HOST, PORT)"
   ]
  }
 ],
 "metadata": {
  "kernelspec": {
   "display_name": "Python 3",
   "language": "python",
   "name": "python3"
  },
  "language_info": {
   "codemirror_mode": {
    "name": "ipython",
    "version": 3
   },
   "file_extension": ".py",
   "mimetype": "text/x-python",
   "name": "python",
   "nbconvert_exporter": "python",
   "pygments_lexer": "ipython3",
   "version": "3.5.3"
  }
 },
 "nbformat": 4,
 "nbformat_minor": 2
}

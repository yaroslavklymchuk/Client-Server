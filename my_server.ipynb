{
 "cells": [
  {
   "cell_type": "code",
   "execution_count": 1,
   "metadata": {},
   "outputs": [],
   "source": [
    "import pandas as pd\n",
    "import socket\n",
    "import numpy as np\n",
    "import textdistance\n",
    "import time\n",
    "import tabulate"
   ]
  },
  {
   "cell_type": "code",
   "execution_count": 2,
   "metadata": {},
   "outputs": [],
   "source": [
    "HOST = 'localhost'\n",
    "PORT = 65532"
   ]
  },
  {
   "cell_type": "code",
   "execution_count": 3,
   "metadata": {},
   "outputs": [],
   "source": [
    "def process(text):\n",
    "    result = pd.DataFrame()\n",
    "    \n",
    "    \n",
    "    metrics_dict = {'cosine':textdistance.cosine,\n",
    "                    'hamming':textdistance.hamming,\n",
    "                    'jaro-winkler':textdistance.jaro_winkler,\n",
    "                    'damerau_levenshtein':textdistance.damerau_levenshtein}\n",
    "    \n",
    "    command = text.split('; ')[0]\n",
    "    words = text.split('; ')[1].split(', ')\n",
    "    \n",
    "    if command=='calculate metrics':\n",
    "        res_dict = {}\n",
    "        for metric in metrics_dict.keys():\n",
    "            res_dict['word_to_find_similar'] = words[0]\n",
    "            res_dict['word_to_compare'] = words[1]\n",
    "            res_dict[metric] = [metrics_dict[metric](words[0], words[1])]\n",
    "        try:\n",
    "            data = pd.read_csv('results_words.csv')\n",
    "            result = data.append(pd.DataFrame(res_dict)).reset_index(drop=True)\n",
    "        except:\n",
    "            result = pd.DataFrame(res_dict)\n",
    "    \n",
    "        result = result.drop_duplicates(subset=['word_to_find_similar',\n",
    "                                       'word_to_compare'], keep='first')\n",
    "        \n",
    "        result.to_csv('results_words.csv', index=False)\n",
    "        \n",
    "    elif command == 'find similars':\n",
    "        try:\n",
    "            data = pd.read_csv('results_words.csv')\n",
    "            all_words = set(data['word_to_find_similar'])|set(data['word_to_compare'])\n",
    "\n",
    "            for word in words:\n",
    "                if word in data['word_to_find_similar'].values:\n",
    "                    closest_word = data[data.word_to_find_similar == word].sort_values(list(metrics_dict.keys()),\n",
    "                                                ascending = [True, False, True, False]).iloc[0]\n",
    "\n",
    "                    res_dict = dict(zip(closest_word.index, closest_word.values))\n",
    "                    result = result.append(pd.DataFrame.from_records([res_dict]))\n",
    "\n",
    "\n",
    "                elif word in data['word_to_compare'].values:\n",
    "                    closest_word = data[data.word_to_compare == word].sort_values(list(metrics_dict.keys()),\n",
    "                                                ascending = [True, False, True, False]).iloc[0]\n",
    "\n",
    "                    res_dict = dict(zip(closest_word.index, closest_word.values))\n",
    "                    result = result.append(pd.DataFrame.from_records([res_dict]))\n",
    "\n",
    "                else:\n",
    "                    res_dict = {'word_to_find_similar':word,\n",
    "                                   'word_to_compare':list(all_words)}\n",
    "\n",
    "                    for key in metrics_dict.keys():\n",
    "                        res_dict[key] = list(map(lambda x: metrics_dict[key](word, x),\n",
    "                                                    list(all_words)))\n",
    "\n",
    "                    df = pd.DataFrame(res_dict, index=[i for i in range(len(res_dict['word_to_compare']))]\n",
    "                                     ).sort_values(list(metrics_dict.keys()),\n",
    "                                                ascending = [True, False, True, False]).iloc[0]\n",
    "\n",
    "                    result = result.append(df)\n",
    "                \n",
    "                result = result.drop_duplicates(subset=['word_to_find_similar',\n",
    "                                       'word_to_compare'], keep='first')\n",
    "                \n",
    "        except:\n",
    "            return \"No data stored yet!\"\n",
    "    return tabulate.tabulate(result.values, result.columns, tablefmt=\"pipe\")"
   ]
  },
  {
   "cell_type": "code",
   "execution_count": 4,
   "metadata": {},
   "outputs": [
    {
     "name": "stdout",
     "output_type": "stream",
     "text": [
      "|   cosine |   damerau_levenshtein |   hamming |   jaro-winkler | word_to_compare   | word_to_find_similar   |\n",
      "|---------:|----------------------:|----------:|---------------:|:------------------|:-----------------------|\n",
      "| 0.149071 |                     8 |         9 |       0.437037 | Hello             | scorpions              |\n",
      "| 0.141421 |                     9 |         9 |       0.433333 | Hello             | malyarchuk             |\n"
     ]
    }
   ],
   "source": [
    "print(process('find similars; scorpions, malyarchuk'))"
   ]
  },
  {
   "cell_type": "code",
   "execution_count": 5,
   "metadata": {},
   "outputs": [],
   "source": [
    "def show():\n",
    "    try:\n",
    "        data = pd.read_csv('results_words.csv')\n",
    "        return tabulate.tabulate(data.values, data.columns, tablefmt=\"pipe\")\n",
    "    except:\n",
    "        return \"No data stored yet!\""
   ]
  },
  {
   "cell_type": "code",
   "execution_count": 6,
   "metadata": {},
   "outputs": [],
   "source": [
    "def worker(msg):\n",
    "    if msg=='print':\n",
    "        return show()\n",
    "    elif msg=='bye':\n",
    "        return 'Good Bye!'\n",
    "    elif msg.split(';')[0]=='calculate metrics' or msg.split(';')[0]=='find similars':\n",
    "        return process(msg)\n",
    "    else:\n",
    "        return \"No valid command\""
   ]
  },
  {
   "cell_type": "code",
   "execution_count": 7,
   "metadata": {},
   "outputs": [],
   "source": [
    "def server(host, port):\n",
    "    with socket.socket(socket.AF_INET, socket.SOCK_STREAM) as s:\n",
    "        s.bind((host, port))\n",
    "        s.listen()\n",
    "        conn, addr = s.accept()\n",
    "        with conn:\n",
    "            print('Connected by', addr)\n",
    "\n",
    "            data = conn.recv(1024).decode('utf-8')\n",
    "            \n",
    "            if data=='Start':\n",
    "                conn.sendall(\"Welcome to Text Measurement System!\".encode('utf-8'))\n",
    "                while True:\n",
    "                    data = conn.recv(1024).decode('utf-8')\n",
    "\n",
    "                    if not data:\n",
    "                        print('End Connection')\n",
    "                        break\n",
    "\n",
    "                    result = worker(data).encode('utf-8')\n",
    "                    \n",
    "                    conn.sendall(result)"
   ]
  },
  {
   "cell_type": "code",
   "execution_count": 8,
   "metadata": {},
   "outputs": [
    {
     "name": "stdout",
     "output_type": "stream",
     "text": [
      "Connected by ('127.0.0.1', 53116)\n",
      "End Connection\n"
     ]
    }
   ],
   "source": [
    "server(HOST, PORT)"
   ]
  }
 ],
 "metadata": {
  "kernelspec": {
   "display_name": "Python 3",
   "language": "python",
   "name": "python3"
  },
  "language_info": {
   "codemirror_mode": {
    "name": "ipython",
    "version": 3
   },
   "file_extension": ".py",
   "mimetype": "text/x-python",
   "name": "python",
   "nbconvert_exporter": "python",
   "pygments_lexer": "ipython3",
   "version": "3.5.3"
  }
 },
 "nbformat": 4,
 "nbformat_minor": 2
}

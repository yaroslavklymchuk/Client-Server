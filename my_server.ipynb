{
 "cells": [
  {
   "cell_type": "code",
   "execution_count": 1,
   "metadata": {},
   "outputs": [],
   "source": [
    "import pandas as pd\n",
    "import socket\n",
    "import numpy as np\n",
    "import textdistance\n",
    "import time"
   ]
  },
  {
   "cell_type": "code",
   "execution_count": 2,
   "metadata": {},
   "outputs": [],
   "source": [
    "HOST = 'localhost'\n",
    "PORT = 65534"
   ]
  },
  {
   "cell_type": "code",
   "execution_count": 33,
   "metadata": {},
   "outputs": [],
   "source": [
    "def process(text):\n",
    "    result = pd.DataFrame()\n",
    "    \n",
    "    \n",
    "    metrics_dict = {'cosine':textdistance.cosine,\n",
    "                    'hamming':textdistance.hamming,\n",
    "                    'jaro-winkler':textdistance.jaro_winkler,\n",
    "                    'damerau_levenshtein':textdistance.damerau_levenshtein}\n",
    "    \n",
    "    command = text.split('; ')[0]\n",
    "    words = text.split('; ')[1].split(', ')\n",
    "    \n",
    "    if command=='calculate metrics':\n",
    "        res_dict = {}\n",
    "        for metric in metrics_dict.keys():\n",
    "            res_dict['word_to_find_similar'] = words[0]\n",
    "            res_dict['word_to_compare'] = words[1]\n",
    "            res_dict[metric] = [metrics_dict[metric](words[0], words[1])]\n",
    "        try:\n",
    "            data = pd.read_csv('results_words.csv')\n",
    "            result = data.append(pd.DataFrame(res_dict)).reset_index(drop=True)\n",
    "        except:\n",
    "            result = pd.DataFrame(res_dict)\n",
    "    \n",
    "        result = result.drop_duplicates(subset=['word_to_find_similar',\n",
    "                                       'word_to_compare'], keep='first')\n",
    "        \n",
    "        result.to_csv('results_words.csv', index=False)\n",
    "        \n",
    "    elif command == 'find similars':\n",
    "        try:\n",
    "            data = pd.read_csv('results_words.csv')\n",
    "            all_words = set(data['word_to_find_similar'])|set(data['word_to_compare'])\n",
    "\n",
    "            for word in words:\n",
    "                if word in data['word_to_find_similar'].values:\n",
    "                    closest_word = data[data.word_to_find_similar == word].sort_values(list(metrics_dict.keys()),\n",
    "                                                ascending = [True, False, True, False]).iloc[0]\n",
    "\n",
    "                    res_dict = dict(zip(closest_word.index, closest_word.values))\n",
    "                    result = result.append(pd.DataFrame.from_records([res_dict]))\n",
    "\n",
    "\n",
    "                elif word in data['word_to_compare'].values:\n",
    "                    closest_word = data[data.word_to_compare == word].sort_values(list(metrics_dict.keys()),\n",
    "                                                ascending = [True, False, True, False]).iloc[0]\n",
    "\n",
    "                    res_dict = dict(zip(closest_word.index, closest_word.values))\n",
    "                    result = result.append(pd.DataFrame.from_records([res_dict]))\n",
    "\n",
    "                else:\n",
    "                    res_dict = {'word_to_find_similar':word,\n",
    "                                   'word_to_compare':list(all_words)}\n",
    "\n",
    "                    for key in metrics_dict.keys():\n",
    "                        res_dict[key] = list(map(lambda x: metrics_dict[key](word, x),\n",
    "                                                    list(all_words)))\n",
    "\n",
    "                    df = pd.DataFrame(res_dict, index=[i for i in range(len(res_dict['word_to_compare']))]\n",
    "                                     ).sort_values(list(metrics_dict.keys()),\n",
    "                                                ascending = [True, False, True, False]).iloc[0]\n",
    "\n",
    "                    result = result.append(df)\n",
    "                \n",
    "                result = result.drop_duplicates(subset=['word_to_find_similar',\n",
    "                                       'word_to_compare'], keep='first')\n",
    "                \n",
    "        except:\n",
    "            return \"No data stored yet!\"\n",
    "    #return str(dict(zip(result.columns, [result.values[:, i].tolist() for i in range(len(result.columns))])))\n",
    "    #return tabletext.to_text(result.values)\n",
    "    return tabulate.tabulate(result.values, result.columns, tablefmt=\"pipe\")"
   ]
  },
  {
   "cell_type": "code",
   "execution_count": 34,
   "metadata": {},
   "outputs": [
    {
     "name": "stdout",
     "output_type": "stream",
     "text": [
      "|   cosine |   damerau_levenshtein |   hamming |   jaro-winkler | word_to_compare   | word_to_find_similar   |\n",
      "|---------:|----------------------:|----------:|---------------:|:------------------|:-----------------------|\n",
      "| 0.333333 |                     7 |         9 |       0.407407 | Jaro              | scorpions              |\n",
      "| 0.782624 |                     4 |        10 |       0.786905 | klymchuk          | malyarchuk             |\n"
     ]
    }
   ],
   "source": [
    "print(process('find similars; scorpions, malyarchuk'))"
   ]
  },
  {
   "cell_type": "code",
   "execution_count": 35,
   "metadata": {},
   "outputs": [],
   "source": [
    "def show():\n",
    "    try:\n",
    "        data = pd.read_csv('results_words.csv')\n",
    "        #return str(dict(zip(data.columns, [data.values[:, i].tolist() for i in range(len(data.columns))])))\n",
    "        #return tabletext.to_text(data.values)\n",
    "        return tabulate.tabulate(data.values, data.columns, tablefmt=\"pipe\")\n",
    "    except:\n",
    "        return \"No data stored yet!\""
   ]
  },
  {
   "cell_type": "code",
   "execution_count": 36,
   "metadata": {},
   "outputs": [],
   "source": [
    "def worker(msg):\n",
    "    if msg=='print':\n",
    "        return show()\n",
    "    elif msg=='bye':\n",
    "        return 'Good Bye!'\n",
    "    else:\n",
    "        return process(msg)"
   ]
  },
  {
   "cell_type": "code",
   "execution_count": 37,
   "metadata": {},
   "outputs": [],
   "source": [
    "def server(host, port):\n",
    "    with socket.socket(socket.AF_INET, socket.SOCK_STREAM) as s:\n",
    "        s.bind((host, port))\n",
    "        s.listen()\n",
    "        conn, addr = s.accept()\n",
    "        with conn:\n",
    "            print('Connected by', addr)\n",
    "\n",
    "            data = conn.recv(1024).decode('utf-8')\n",
    "            \n",
    "            if data=='Start':\n",
    "                conn.sendall(\"Welcome to Text Measurement System!\".encode('utf-8'))\n",
    "                while True:\n",
    "                    data = conn.recv(1024).decode('utf-8')\n",
    "\n",
    "                    if not data:\n",
    "                        print('End Connection')\n",
    "                        break\n",
    "\n",
    "                    result = worker(data).encode('utf-8')\n",
    "                    \n",
    "                    conn.sendall(result)"
   ]
  },
  {
   "cell_type": "code",
   "execution_count": 38,
   "metadata": {},
   "outputs": [
    {
     "name": "stdout",
     "output_type": "stream",
     "text": [
      "Connected by ('127.0.0.1', 35576)\n",
      "End Connection\n"
     ]
    }
   ],
   "source": [
    "server(HOST, PORT)"
   ]
  },
  {
   "cell_type": "raw",
   "metadata": {},
   "source": [
    "def server(host, port):\n",
    "    with socket.socket(socket.AF_INET, socket.SOCK_STREAM) as s:\n",
    "        s.bind((host, port))\n",
    "        s.listen()\n",
    "        conn, addr = s.accept()\n",
    "        with conn:\n",
    "            print('Connected by', addr)\n",
    "            while True:\n",
    "                data = conn.recv(1024).decode('utf-8')\n",
    "                \n",
    "                if not data:\n",
    "                    print('End Connection')\n",
    "                    break\n",
    "                    \n",
    "                print(data)\n",
    "                result = process(data)\n",
    "                      \n",
    "                conn.sendall(result.encode('utf-8'))"
   ]
  },
  {
   "cell_type": "raw",
   "metadata": {},
   "source": [
    "with socket.socket(socket.AF_INET, socket.SOCK_STREAM) as s:\n",
    "    s.bind((HOST, PORT))\n",
    "    s.listen()\n",
    "    conn, addr = s.accept()\n",
    "    with conn:\n",
    "        print('Connected by', addr)\n",
    "        while True:\n",
    "            data = conn.recv(1024).decode('utf-8')\n",
    "            print(data)\n",
    "            if not data:\n",
    "                print('Connection Failed')\n",
    "                break\n",
    "            conn.sendall(data.encode('utf-8'))"
   ]
  },
  {
   "cell_type": "code",
   "execution_count": 5,
   "metadata": {},
   "outputs": [
    {
     "name": "stdout",
     "output_type": "stream",
     "text": [
      "Connected by ('127.0.0.1', 54650)\n",
      "calculate metrics; Hello, hello\n",
      "End Connection\n"
     ]
    }
   ],
   "source": [
    "server(HOST, PORT)"
   ]
  },
  {
   "cell_type": "code",
   "execution_count": 71,
   "metadata": {},
   "outputs": [
    {
     "data": {
      "text/html": [
       "<div>\n",
       "<style scoped>\n",
       "    .dataframe tbody tr th:only-of-type {\n",
       "        vertical-align: middle;\n",
       "    }\n",
       "\n",
       "    .dataframe tbody tr th {\n",
       "        vertical-align: top;\n",
       "    }\n",
       "\n",
       "    .dataframe thead th {\n",
       "        text-align: right;\n",
       "    }\n",
       "</style>\n",
       "<table border=\"1\" class=\"dataframe\">\n",
       "  <thead>\n",
       "    <tr style=\"text-align: right;\">\n",
       "      <th></th>\n",
       "      <th>a</th>\n",
       "      <th>b</th>\n",
       "    </tr>\n",
       "  </thead>\n",
       "  <tbody>\n",
       "    <tr>\n",
       "      <th>0</th>\n",
       "      <td>1</td>\n",
       "      <td>4</td>\n",
       "    </tr>\n",
       "    <tr>\n",
       "      <th>1</th>\n",
       "      <td>2</td>\n",
       "      <td>5</td>\n",
       "    </tr>\n",
       "    <tr>\n",
       "      <th>2</th>\n",
       "      <td>3</td>\n",
       "      <td>6</td>\n",
       "    </tr>\n",
       "  </tbody>\n",
       "</table>\n",
       "</div>"
      ],
      "text/plain": [
       "   a  b\n",
       "0  1  4\n",
       "1  2  5\n",
       "2  3  6"
      ]
     },
     "execution_count": 71,
     "metadata": {},
     "output_type": "execute_result"
    }
   ],
   "source": [
    "df"
   ]
  },
  {
   "cell_type": "code",
   "execution_count": 77,
   "metadata": {},
   "outputs": [
    {
     "data": {
      "text/plain": [
       "array([[1, 4],\n",
       "       [2, 5],\n",
       "       [3, 6]])"
      ]
     },
     "execution_count": 77,
     "metadata": {},
     "output_type": "execute_result"
    }
   ],
   "source": [
    "df.values"
   ]
  },
  {
   "cell_type": "code",
   "execution_count": 5,
   "metadata": {},
   "outputs": [],
   "source": [
    "import tabletext"
   ]
  },
  {
   "cell_type": "code",
   "execution_count": 7,
   "metadata": {},
   "outputs": [],
   "source": [
    "df = pd.DataFrame({'a':[1,2,3,4],\n",
    "                  'b':[1,2,5,6]})"
   ]
  },
  {
   "cell_type": "code",
   "execution_count": 8,
   "metadata": {},
   "outputs": [
    {
     "name": "stdout",
     "output_type": "stream",
     "text": [
      "┌───┬───┐\n",
      "│ 1 │ 1 │\n",
      "├───┼───┤\n",
      "│ 2 │ 2 │\n",
      "├───┼───┤\n",
      "│ 3 │ 5 │\n",
      "├───┼───┤\n",
      "│ 4 │ 6 │\n",
      "└───┴───┘\n"
     ]
    }
   ],
   "source": [
    "print(tabletext.to_text(df.values))"
   ]
  },
  {
   "cell_type": "code",
   "execution_count": 9,
   "metadata": {},
   "outputs": [],
   "source": [
    "def f():\n",
    "    return (tabletext.to_text(df.values))"
   ]
  },
  {
   "cell_type": "code",
   "execution_count": 13,
   "metadata": {},
   "outputs": [
    {
     "data": {
      "text/plain": [
       "b'\\xe2\\x94\\x8c\\xe2\\x94\\x80\\xe2\\x94\\x80\\xe2\\x94\\x80\\xe2\\x94\\xac\\xe2\\x94\\x80\\xe2\\x94\\x80\\xe2\\x94\\x80\\xe2\\x94\\x90\\n\\xe2\\x94\\x82 1 \\xe2\\x94\\x82 1 \\xe2\\x94\\x82\\n\\xe2\\x94\\x9c\\xe2\\x94\\x80\\xe2\\x94\\x80\\xe2\\x94\\x80\\xe2\\x94\\xbc\\xe2\\x94\\x80\\xe2\\x94\\x80\\xe2\\x94\\x80\\xe2\\x94\\xa4\\n\\xe2\\x94\\x82 2 \\xe2\\x94\\x82 2 \\xe2\\x94\\x82\\n\\xe2\\x94\\x9c\\xe2\\x94\\x80\\xe2\\x94\\x80\\xe2\\x94\\x80\\xe2\\x94\\xbc\\xe2\\x94\\x80\\xe2\\x94\\x80\\xe2\\x94\\x80\\xe2\\x94\\xa4\\n\\xe2\\x94\\x82 3 \\xe2\\x94\\x82 5 \\xe2\\x94\\x82\\n\\xe2\\x94\\x9c\\xe2\\x94\\x80\\xe2\\x94\\x80\\xe2\\x94\\x80\\xe2\\x94\\xbc\\xe2\\x94\\x80\\xe2\\x94\\x80\\xe2\\x94\\x80\\xe2\\x94\\xa4\\n\\xe2\\x94\\x82 4 \\xe2\\x94\\x82 6 \\xe2\\x94\\x82\\n\\xe2\\x94\\x94\\xe2\\x94\\x80\\xe2\\x94\\x80\\xe2\\x94\\x80\\xe2\\x94\\xb4\\xe2\\x94\\x80\\xe2\\x94\\x80\\xe2\\x94\\x80\\xe2\\x94\\x98'"
      ]
     },
     "execution_count": 13,
     "metadata": {},
     "output_type": "execute_result"
    }
   ],
   "source": [
    "f().encode('utf-8')"
   ]
  },
  {
   "cell_type": "code",
   "execution_count": 23,
   "metadata": {},
   "outputs": [],
   "source": [
    "import tabulate"
   ]
  },
  {
   "cell_type": "code",
   "execution_count": 30,
   "metadata": {},
   "outputs": [
    {
     "name": "stdout",
     "output_type": "stream",
     "text": [
      "|   a |   b |\n",
      "|----:|----:|\n",
      "|   1 |   1 |\n",
      "|   2 |   2 |\n",
      "|   3 |   5 |\n",
      "|   4 |   6 |\n"
     ]
    }
   ],
   "source": [
    "print(tabulate.tabulate(df.values, df.columns, tablefmt=\"pipe\"))"
   ]
  },
  {
   "cell_type": "code",
   "execution_count": null,
   "metadata": {},
   "outputs": [],
   "source": []
  }
 ],
 "metadata": {
  "kernelspec": {
   "display_name": "Python 3",
   "language": "python",
   "name": "python3"
  },
  "language_info": {
   "codemirror_mode": {
    "name": "ipython",
    "version": 3
   },
   "file_extension": ".py",
   "mimetype": "text/x-python",
   "name": "python",
   "nbconvert_exporter": "python",
   "pygments_lexer": "ipython3",
   "version": "3.5.3"
  }
 },
 "nbformat": 4,
 "nbformat_minor": 2
}
